{
 "cells": [
  {
   "attachments": {},
   "cell_type": "markdown",
   "metadata": {},
   "source": [
    "This code implements a simple neural network with a single layer to perform binary classification. Let's go through the code step by step to understand how it works:"
   ]
  },
  {
   "cell_type": "code",
   "execution_count": 72,
   "metadata": {},
   "outputs": [
    {
     "name": "stdout",
     "output_type": "stream",
     "text": [
      "Output After Training:\n",
      "[[0.5]\n",
      " [0.5]\n",
      " [0.5]\n",
      " [0.5]]\n"
     ]
    }
   ],
   "source": [
    "import numpy as np\n",
    "\n",
    "# sigmoid function\n",
    "def nonlin(x,deriv=False):\n",
    "    if(deriv==True):\n",
    "        return x*(1-x)\n",
    "    return 1/(1+np.exp(-x))\n",
    "\n",
    "# The input dataset X is defined as a 2-dimensional NumPy array with 4 rows and 3 columns.\n",
    "# Each row represents a sample, and each column represents a feature. \n",
    "# The output dataset y is also defined as a 2-dimensional NumPy array with 4 rows and 1 column. \n",
    "# Each row corresponds to the expected output for the corresponding input sample.\n",
    "\n",
    "# input dataset\n",
    "X = np.array([  [0,0,1],\n",
    "                [0,1,1],\n",
    "                [1,0,1],\n",
    "                [1,1,1] ])\n",
    "    \n",
    "# output dataset            \n",
    "y = np.array([[0,1,1,0]]).T\n",
    "\n",
    "# seed random numbers to make calculation\n",
    "# deterministic (just a good practice)\n",
    "np.random.seed(1) \n",
    "\n",
    "# initialize weights randomly with mean 0\n",
    "syn0 = 2*np.random.random((3,1)) - 1 #This creates a 2-dimensional NumPy array of size 3x1 with random values between -1 and 1.\n",
    "\n",
    "#Training the neural network: The code enters a loop that iterates 10,000 times to train the neural network.\n",
    "for iter in range(100000):\n",
    "\n",
    "    # forward propagation is performed to calculate the output of the neural network. \n",
    "    l0 = X\n",
    "    l1 = nonlin(np.dot(l0,syn0))\n",
    "    # how much did we miss?\n",
    "    l1_error = y - l1\n",
    "\n",
    "    #Backpropagation is performed to update the weights based on the error.\n",
    "    # multiply how much we missed by the slope of the sigmoid at the values in l1\n",
    "    l1_delta = l1_error * nonlin(l1,True) # element-wise multiplication\n",
    "    #Error Adjustment: By multiplying the errors by the slope of the sigmoid function, \n",
    "    # we are essentially adjusting the magnitude of the errors. \n",
    "    # The errors associated with predictions that are far from the correct values will have a larger magnitude \n",
    "    # after the weighting, indicating a need for more substantial adjustments to the weights.\n",
    "    # On the other hand, errors associated with predictions that are close to the correct values will \n",
    "    # have a smaller magnitude after the weighting, suggesting that the weights are already in a good direction.\n",
    "    \n",
    "    \n",
    "    # update weights\n",
    "    syn0 += np.dot(l0.T,l1_delta)\n",
    "print( \"Output After Training:\")\n",
    "print (l1)\n"
   ]
  },
  {
   "attachments": {},
   "cell_type": "markdown",
   "metadata": {},
   "source": [
    "## Training a neural network (Simple code with full explanation in comments)"
   ]
  },
  {
   "cell_type": "code",
   "execution_count": 78,
   "metadata": {},
   "outputs": [],
   "source": [
    "a = [[1,2,3],[6,7,8]]\n",
    "c = [3,4]\n",
    "\n",
    "b = list(zip(a,c))"
   ]
  },
  {
   "cell_type": "code",
   "execution_count": 77,
   "metadata": {},
   "outputs": [
    {
     "data": {
      "text/plain": [
       "[([1, 2, 3], 3), ([6, 7, 8], 4)]"
      ]
     },
     "execution_count": 77,
     "metadata": {},
     "output_type": "execute_result"
    }
   ],
   "source": [
    "b"
   ]
  },
  {
   "cell_type": "code",
   "execution_count": null,
   "metadata": {},
   "outputs": [],
   "source": []
  }
 ],
 "metadata": {
  "kernelspec": {
   "display_name": "Python 3",
   "language": "python",
   "name": "python3"
  },
  "language_info": {
   "codemirror_mode": {
    "name": "ipython",
    "version": 3
   },
   "file_extension": ".py",
   "mimetype": "text/x-python",
   "name": "python",
   "nbconvert_exporter": "python",
   "pygments_lexer": "ipython3",
   "version": "3.9.6"
  },
  "orig_nbformat": 4
 },
 "nbformat": 4,
 "nbformat_minor": 2
}
